{
 "cells": [
  {
   "cell_type": "markdown",
   "id": "1f3c9d79",
   "metadata": {},
   "source": [
    "A multiple linear regression algorithm will be employed here to attempt accurate prediction of ten year CHD based on 15 health attributes."
   ]
  },
  {
   "cell_type": "code",
   "execution_count": 1,
   "id": "ff83d6b0",
   "metadata": {},
   "outputs": [],
   "source": [
    "import pandas as pd\n",
    "import numpy as np\n",
    "import matplotlib.pyplot as plt\n",
    "from sklearn.model_selection import train_test_split\n",
    "from sklearn.linear_model import LinearRegression\n",
    "from sklearn.metrics import mean_squared_error, mean_absolute_error\n",
    "from sklearn import preprocessing\n",
    "from sklearn.model_selection import cross_val_score\n",
    "from sklearn.metrics import f1_score"
   ]
  },
  {
   "cell_type": "code",
   "execution_count": 2,
   "id": "858ce06b",
   "metadata": {},
   "outputs": [
    {
     "data": {
      "text/html": [
       "<div>\n",
       "<style scoped>\n",
       "    .dataframe tbody tr th:only-of-type {\n",
       "        vertical-align: middle;\n",
       "    }\n",
       "\n",
       "    .dataframe tbody tr th {\n",
       "        vertical-align: top;\n",
       "    }\n",
       "\n",
       "    .dataframe thead th {\n",
       "        text-align: right;\n",
       "    }\n",
       "</style>\n",
       "<table border=\"1\" class=\"dataframe\">\n",
       "  <thead>\n",
       "    <tr style=\"text-align: right;\">\n",
       "      <th></th>\n",
       "      <th>male</th>\n",
       "      <th>age</th>\n",
       "      <th>education</th>\n",
       "      <th>currentSmoker</th>\n",
       "      <th>cigsPerDay</th>\n",
       "      <th>BPMeds</th>\n",
       "      <th>prevalentStroke</th>\n",
       "      <th>prevalentHyp</th>\n",
       "      <th>diabetes</th>\n",
       "      <th>totChol</th>\n",
       "      <th>sysBP</th>\n",
       "      <th>diaBP</th>\n",
       "      <th>BMI</th>\n",
       "      <th>heartRate</th>\n",
       "      <th>glucose</th>\n",
       "      <th>TenYearCHD</th>\n",
       "    </tr>\n",
       "  </thead>\n",
       "  <tbody>\n",
       "    <tr>\n",
       "      <th>0</th>\n",
       "      <td>1</td>\n",
       "      <td>39</td>\n",
       "      <td>4.0</td>\n",
       "      <td>0</td>\n",
       "      <td>0.0</td>\n",
       "      <td>0.0</td>\n",
       "      <td>0</td>\n",
       "      <td>0</td>\n",
       "      <td>0</td>\n",
       "      <td>195.0</td>\n",
       "      <td>106.0</td>\n",
       "      <td>70.0</td>\n",
       "      <td>26.97</td>\n",
       "      <td>80.0</td>\n",
       "      <td>77.0</td>\n",
       "      <td>0</td>\n",
       "    </tr>\n",
       "    <tr>\n",
       "      <th>1</th>\n",
       "      <td>0</td>\n",
       "      <td>46</td>\n",
       "      <td>2.0</td>\n",
       "      <td>0</td>\n",
       "      <td>0.0</td>\n",
       "      <td>0.0</td>\n",
       "      <td>0</td>\n",
       "      <td>0</td>\n",
       "      <td>0</td>\n",
       "      <td>250.0</td>\n",
       "      <td>121.0</td>\n",
       "      <td>81.0</td>\n",
       "      <td>28.73</td>\n",
       "      <td>95.0</td>\n",
       "      <td>76.0</td>\n",
       "      <td>0</td>\n",
       "    </tr>\n",
       "    <tr>\n",
       "      <th>2</th>\n",
       "      <td>1</td>\n",
       "      <td>48</td>\n",
       "      <td>1.0</td>\n",
       "      <td>1</td>\n",
       "      <td>20.0</td>\n",
       "      <td>0.0</td>\n",
       "      <td>0</td>\n",
       "      <td>0</td>\n",
       "      <td>0</td>\n",
       "      <td>245.0</td>\n",
       "      <td>127.5</td>\n",
       "      <td>80.0</td>\n",
       "      <td>25.34</td>\n",
       "      <td>75.0</td>\n",
       "      <td>70.0</td>\n",
       "      <td>0</td>\n",
       "    </tr>\n",
       "    <tr>\n",
       "      <th>3</th>\n",
       "      <td>0</td>\n",
       "      <td>61</td>\n",
       "      <td>3.0</td>\n",
       "      <td>1</td>\n",
       "      <td>30.0</td>\n",
       "      <td>0.0</td>\n",
       "      <td>0</td>\n",
       "      <td>1</td>\n",
       "      <td>0</td>\n",
       "      <td>225.0</td>\n",
       "      <td>150.0</td>\n",
       "      <td>95.0</td>\n",
       "      <td>28.58</td>\n",
       "      <td>65.0</td>\n",
       "      <td>103.0</td>\n",
       "      <td>1</td>\n",
       "    </tr>\n",
       "    <tr>\n",
       "      <th>4</th>\n",
       "      <td>0</td>\n",
       "      <td>46</td>\n",
       "      <td>3.0</td>\n",
       "      <td>1</td>\n",
       "      <td>23.0</td>\n",
       "      <td>0.0</td>\n",
       "      <td>0</td>\n",
       "      <td>0</td>\n",
       "      <td>0</td>\n",
       "      <td>285.0</td>\n",
       "      <td>130.0</td>\n",
       "      <td>84.0</td>\n",
       "      <td>23.10</td>\n",
       "      <td>85.0</td>\n",
       "      <td>85.0</td>\n",
       "      <td>0</td>\n",
       "    </tr>\n",
       "    <tr>\n",
       "      <th>5</th>\n",
       "      <td>0</td>\n",
       "      <td>43</td>\n",
       "      <td>2.0</td>\n",
       "      <td>0</td>\n",
       "      <td>0.0</td>\n",
       "      <td>0.0</td>\n",
       "      <td>0</td>\n",
       "      <td>1</td>\n",
       "      <td>0</td>\n",
       "      <td>228.0</td>\n",
       "      <td>180.0</td>\n",
       "      <td>110.0</td>\n",
       "      <td>30.30</td>\n",
       "      <td>77.0</td>\n",
       "      <td>99.0</td>\n",
       "      <td>0</td>\n",
       "    </tr>\n",
       "    <tr>\n",
       "      <th>6</th>\n",
       "      <td>0</td>\n",
       "      <td>63</td>\n",
       "      <td>1.0</td>\n",
       "      <td>0</td>\n",
       "      <td>0.0</td>\n",
       "      <td>0.0</td>\n",
       "      <td>0</td>\n",
       "      <td>0</td>\n",
       "      <td>0</td>\n",
       "      <td>205.0</td>\n",
       "      <td>138.0</td>\n",
       "      <td>71.0</td>\n",
       "      <td>33.11</td>\n",
       "      <td>60.0</td>\n",
       "      <td>85.0</td>\n",
       "      <td>1</td>\n",
       "    </tr>\n",
       "    <tr>\n",
       "      <th>7</th>\n",
       "      <td>0</td>\n",
       "      <td>45</td>\n",
       "      <td>2.0</td>\n",
       "      <td>1</td>\n",
       "      <td>20.0</td>\n",
       "      <td>0.0</td>\n",
       "      <td>0</td>\n",
       "      <td>0</td>\n",
       "      <td>0</td>\n",
       "      <td>313.0</td>\n",
       "      <td>100.0</td>\n",
       "      <td>71.0</td>\n",
       "      <td>21.68</td>\n",
       "      <td>79.0</td>\n",
       "      <td>78.0</td>\n",
       "      <td>0</td>\n",
       "    </tr>\n",
       "    <tr>\n",
       "      <th>8</th>\n",
       "      <td>1</td>\n",
       "      <td>52</td>\n",
       "      <td>1.0</td>\n",
       "      <td>0</td>\n",
       "      <td>0.0</td>\n",
       "      <td>0.0</td>\n",
       "      <td>0</td>\n",
       "      <td>1</td>\n",
       "      <td>0</td>\n",
       "      <td>260.0</td>\n",
       "      <td>141.5</td>\n",
       "      <td>89.0</td>\n",
       "      <td>26.36</td>\n",
       "      <td>76.0</td>\n",
       "      <td>79.0</td>\n",
       "      <td>0</td>\n",
       "    </tr>\n",
       "    <tr>\n",
       "      <th>9</th>\n",
       "      <td>1</td>\n",
       "      <td>43</td>\n",
       "      <td>1.0</td>\n",
       "      <td>1</td>\n",
       "      <td>30.0</td>\n",
       "      <td>0.0</td>\n",
       "      <td>0</td>\n",
       "      <td>1</td>\n",
       "      <td>0</td>\n",
       "      <td>225.0</td>\n",
       "      <td>162.0</td>\n",
       "      <td>107.0</td>\n",
       "      <td>23.61</td>\n",
       "      <td>93.0</td>\n",
       "      <td>88.0</td>\n",
       "      <td>0</td>\n",
       "    </tr>\n",
       "  </tbody>\n",
       "</table>\n",
       "</div>"
      ],
      "text/plain": [
       "   male  age  education  currentSmoker  cigsPerDay  BPMeds  prevalentStroke  \\\n",
       "0     1   39        4.0              0         0.0     0.0                0   \n",
       "1     0   46        2.0              0         0.0     0.0                0   \n",
       "2     1   48        1.0              1        20.0     0.0                0   \n",
       "3     0   61        3.0              1        30.0     0.0                0   \n",
       "4     0   46        3.0              1        23.0     0.0                0   \n",
       "5     0   43        2.0              0         0.0     0.0                0   \n",
       "6     0   63        1.0              0         0.0     0.0                0   \n",
       "7     0   45        2.0              1        20.0     0.0                0   \n",
       "8     1   52        1.0              0         0.0     0.0                0   \n",
       "9     1   43        1.0              1        30.0     0.0                0   \n",
       "\n",
       "   prevalentHyp  diabetes  totChol  sysBP  diaBP    BMI  heartRate  glucose  \\\n",
       "0             0         0    195.0  106.0   70.0  26.97       80.0     77.0   \n",
       "1             0         0    250.0  121.0   81.0  28.73       95.0     76.0   \n",
       "2             0         0    245.0  127.5   80.0  25.34       75.0     70.0   \n",
       "3             1         0    225.0  150.0   95.0  28.58       65.0    103.0   \n",
       "4             0         0    285.0  130.0   84.0  23.10       85.0     85.0   \n",
       "5             1         0    228.0  180.0  110.0  30.30       77.0     99.0   \n",
       "6             0         0    205.0  138.0   71.0  33.11       60.0     85.0   \n",
       "7             0         0    313.0  100.0   71.0  21.68       79.0     78.0   \n",
       "8             1         0    260.0  141.5   89.0  26.36       76.0     79.0   \n",
       "9             1         0    225.0  162.0  107.0  23.61       93.0     88.0   \n",
       "\n",
       "   TenYearCHD  \n",
       "0           0  \n",
       "1           0  \n",
       "2           0  \n",
       "3           1  \n",
       "4           0  \n",
       "5           0  \n",
       "6           1  \n",
       "7           0  \n",
       "8           0  \n",
       "9           0  "
      ]
     },
     "execution_count": 2,
     "metadata": {},
     "output_type": "execute_result"
    }
   ],
   "source": [
    "# In order to incorporate continuous values, the uncleaned dataset is imported. \n",
    "df = pd.read_csv('framingham.csv')\n",
    "df.head(10)"
   ]
  },
  {
   "cell_type": "markdown",
   "id": "3c8d71d9",
   "metadata": {},
   "source": [
    "In an attempt to improve prediction accuracy over the poor power of naive Bayes in this application, a multiple linear regression approach is used. The raw dataset is imported in order to make use of the continuous variables since binning is not necessary nor beneficial. \n",
    "The only form of data cleaning that will be necessary here is a simple missing value replacement that was covered in the data_cleaning file."
   ]
  },
  {
   "cell_type": "code",
   "execution_count": 281,
   "id": "a1e2338b",
   "metadata": {},
   "outputs": [],
   "source": [
    "# Replacement of NA values with attribute means. \n",
    "# Dataframe copies increase memory usage but allow for checkpoints.\n",
    "size = len(df)\n",
    "\n",
    "# Attributes that will have their NA values replaced by the attribute mean. \n",
    "na_cols_mean_replace = ['cigsPerDay', 'totChol', 'BMI', 'heartRate', 'glucose']\n",
    "\n",
    "for col in na_cols_mean_replace:\n",
    "    avg = round(df[col].mean(), 2)\n",
    "    df[col] = df[col].fillna(avg)\n",
    "\n",
    "# Education will be binned as is, so replacement values will need to correspond to an existing int. \n",
    "na_cols_mean_replace_round = ['education', 'BPMeds']\n",
    "\n",
    "for col in na_cols_mean_replace_round:\n",
    "    avg = round(df[col].mean(), 0)\n",
    "    df[col] = df[col].fillna(avg)\n"
   ]
  },
  {
   "cell_type": "code",
   "execution_count": 282,
   "id": "174cfd9d",
   "metadata": {},
   "outputs": [
    {
     "data": {
      "text/html": [
       "<div>\n",
       "<style scoped>\n",
       "    .dataframe tbody tr th:only-of-type {\n",
       "        vertical-align: middle;\n",
       "    }\n",
       "\n",
       "    .dataframe tbody tr th {\n",
       "        vertical-align: top;\n",
       "    }\n",
       "\n",
       "    .dataframe thead th {\n",
       "        text-align: right;\n",
       "    }\n",
       "</style>\n",
       "<table border=\"1\" class=\"dataframe\">\n",
       "  <thead>\n",
       "    <tr style=\"text-align: right;\">\n",
       "      <th></th>\n",
       "      <th>N/A Count</th>\n",
       "      <th>Mean</th>\n",
       "      <th>Median</th>\n",
       "      <th>Min</th>\n",
       "      <th>Max</th>\n",
       "    </tr>\n",
       "  </thead>\n",
       "  <tbody>\n",
       "    <tr>\n",
       "      <th>male</th>\n",
       "      <td>0.0</td>\n",
       "      <td>0.43</td>\n",
       "      <td>0.00</td>\n",
       "      <td>0.00</td>\n",
       "      <td>1.0</td>\n",
       "    </tr>\n",
       "    <tr>\n",
       "      <th>age</th>\n",
       "      <td>0.0</td>\n",
       "      <td>49.58</td>\n",
       "      <td>49.00</td>\n",
       "      <td>32.00</td>\n",
       "      <td>70.0</td>\n",
       "    </tr>\n",
       "    <tr>\n",
       "      <th>education</th>\n",
       "      <td>0.0</td>\n",
       "      <td>1.98</td>\n",
       "      <td>2.00</td>\n",
       "      <td>1.00</td>\n",
       "      <td>4.0</td>\n",
       "    </tr>\n",
       "    <tr>\n",
       "      <th>currentSmoker</th>\n",
       "      <td>0.0</td>\n",
       "      <td>0.49</td>\n",
       "      <td>0.00</td>\n",
       "      <td>0.00</td>\n",
       "      <td>1.0</td>\n",
       "    </tr>\n",
       "    <tr>\n",
       "      <th>cigsPerDay</th>\n",
       "      <td>0.0</td>\n",
       "      <td>9.00</td>\n",
       "      <td>0.00</td>\n",
       "      <td>0.00</td>\n",
       "      <td>70.0</td>\n",
       "    </tr>\n",
       "    <tr>\n",
       "      <th>BPMeds</th>\n",
       "      <td>0.0</td>\n",
       "      <td>0.03</td>\n",
       "      <td>0.00</td>\n",
       "      <td>0.00</td>\n",
       "      <td>1.0</td>\n",
       "    </tr>\n",
       "    <tr>\n",
       "      <th>prevalentStroke</th>\n",
       "      <td>0.0</td>\n",
       "      <td>0.01</td>\n",
       "      <td>0.00</td>\n",
       "      <td>0.00</td>\n",
       "      <td>1.0</td>\n",
       "    </tr>\n",
       "    <tr>\n",
       "      <th>prevalentHyp</th>\n",
       "      <td>0.0</td>\n",
       "      <td>0.31</td>\n",
       "      <td>0.00</td>\n",
       "      <td>0.00</td>\n",
       "      <td>1.0</td>\n",
       "    </tr>\n",
       "    <tr>\n",
       "      <th>diabetes</th>\n",
       "      <td>0.0</td>\n",
       "      <td>0.03</td>\n",
       "      <td>0.00</td>\n",
       "      <td>0.00</td>\n",
       "      <td>1.0</td>\n",
       "    </tr>\n",
       "    <tr>\n",
       "      <th>totChol</th>\n",
       "      <td>0.0</td>\n",
       "      <td>236.72</td>\n",
       "      <td>234.00</td>\n",
       "      <td>107.00</td>\n",
       "      <td>696.0</td>\n",
       "    </tr>\n",
       "    <tr>\n",
       "      <th>sysBP</th>\n",
       "      <td>0.0</td>\n",
       "      <td>132.35</td>\n",
       "      <td>128.00</td>\n",
       "      <td>83.50</td>\n",
       "      <td>295.0</td>\n",
       "    </tr>\n",
       "    <tr>\n",
       "      <th>diaBP</th>\n",
       "      <td>0.0</td>\n",
       "      <td>82.89</td>\n",
       "      <td>82.00</td>\n",
       "      <td>48.00</td>\n",
       "      <td>142.5</td>\n",
       "    </tr>\n",
       "    <tr>\n",
       "      <th>BMI</th>\n",
       "      <td>0.0</td>\n",
       "      <td>25.80</td>\n",
       "      <td>25.41</td>\n",
       "      <td>15.54</td>\n",
       "      <td>56.8</td>\n",
       "    </tr>\n",
       "    <tr>\n",
       "      <th>heartRate</th>\n",
       "      <td>0.0</td>\n",
       "      <td>75.88</td>\n",
       "      <td>75.00</td>\n",
       "      <td>44.00</td>\n",
       "      <td>143.0</td>\n",
       "    </tr>\n",
       "    <tr>\n",
       "      <th>glucose</th>\n",
       "      <td>0.0</td>\n",
       "      <td>81.97</td>\n",
       "      <td>80.00</td>\n",
       "      <td>40.00</td>\n",
       "      <td>394.0</td>\n",
       "    </tr>\n",
       "    <tr>\n",
       "      <th>TenYearCHD</th>\n",
       "      <td>0.0</td>\n",
       "      <td>0.15</td>\n",
       "      <td>0.00</td>\n",
       "      <td>0.00</td>\n",
       "      <td>1.0</td>\n",
       "    </tr>\n",
       "  </tbody>\n",
       "</table>\n",
       "</div>"
      ],
      "text/plain": [
       "                 N/A Count    Mean  Median     Min    Max\n",
       "male                   0.0    0.43    0.00    0.00    1.0\n",
       "age                    0.0   49.58   49.00   32.00   70.0\n",
       "education              0.0    1.98    2.00    1.00    4.0\n",
       "currentSmoker          0.0    0.49    0.00    0.00    1.0\n",
       "cigsPerDay             0.0    9.00    0.00    0.00   70.0\n",
       "BPMeds                 0.0    0.03    0.00    0.00    1.0\n",
       "prevalentStroke        0.0    0.01    0.00    0.00    1.0\n",
       "prevalentHyp           0.0    0.31    0.00    0.00    1.0\n",
       "diabetes               0.0    0.03    0.00    0.00    1.0\n",
       "totChol                0.0  236.72  234.00  107.00  696.0\n",
       "sysBP                  0.0  132.35  128.00   83.50  295.0\n",
       "diaBP                  0.0   82.89   82.00   48.00  142.5\n",
       "BMI                    0.0   25.80   25.41   15.54   56.8\n",
       "heartRate              0.0   75.88   75.00   44.00  143.0\n",
       "glucose                0.0   81.97   80.00   40.00  394.0\n",
       "TenYearCHD             0.0    0.15    0.00    0.00    1.0"
      ]
     },
     "execution_count": 282,
     "metadata": {},
     "output_type": "execute_result"
    }
   ],
   "source": [
    "# Assessment of key attributes of the dataset.\n",
    "def attributes(df):\n",
    "    attrs = pd.DataFrame(columns=['N/A Count', 'Mean', 'Median', 'Min', 'Max'])\n",
    "    for col in df:\n",
    "        na_count = df[col].isna().sum()\n",
    "        avg = round(df[col].mean(), 2)\n",
    "        med = round(df[col].median(), 2)\n",
    "        mn = min(df[col])\n",
    "        mx = max(df[col])\n",
    "        attrs.loc[col] = [na_count, avg, med, mn, mx]\n",
    "    return attrs\n",
    "    \n",
    "attributes(df)"
   ]
  },
  {
   "cell_type": "code",
   "execution_count": 283,
   "id": "e61f4f20",
   "metadata": {},
   "outputs": [],
   "source": [
    "# Defining the independent and dependent variables. \n",
    "x = df.drop('TenYearCHD', axis=1)\n",
    "y = df['TenYearCHD']"
   ]
  },
  {
   "cell_type": "code",
   "execution_count": 284,
   "id": "676d2e47",
   "metadata": {},
   "outputs": [
    {
     "name": "stdout",
     "output_type": "stream",
     "text": [
      "(3390, 15) (3390,)\n"
     ]
    }
   ],
   "source": [
    "# Splitting the data into train and test subsets. The shape verifies the expected outcomes. \n",
    "x_train, x_test, y_train, y_test = train_test_split(x, y, test_size=0.2, random_state=10)\n",
    "print(x_train.shape, y_train.shape)"
   ]
  },
  {
   "cell_type": "code",
   "execution_count": 285,
   "id": "a31e1e82",
   "metadata": {},
   "outputs": [
    {
     "data": {
      "text/html": [
       "<style>#sk-container-id-17 {color: black;background-color: white;}#sk-container-id-17 pre{padding: 0;}#sk-container-id-17 div.sk-toggleable {background-color: white;}#sk-container-id-17 label.sk-toggleable__label {cursor: pointer;display: block;width: 100%;margin-bottom: 0;padding: 0.3em;box-sizing: border-box;text-align: center;}#sk-container-id-17 label.sk-toggleable__label-arrow:before {content: \"▸\";float: left;margin-right: 0.25em;color: #696969;}#sk-container-id-17 label.sk-toggleable__label-arrow:hover:before {color: black;}#sk-container-id-17 div.sk-estimator:hover label.sk-toggleable__label-arrow:before {color: black;}#sk-container-id-17 div.sk-toggleable__content {max-height: 0;max-width: 0;overflow: hidden;text-align: left;background-color: #f0f8ff;}#sk-container-id-17 div.sk-toggleable__content pre {margin: 0.2em;color: black;border-radius: 0.25em;background-color: #f0f8ff;}#sk-container-id-17 input.sk-toggleable__control:checked~div.sk-toggleable__content {max-height: 200px;max-width: 100%;overflow: auto;}#sk-container-id-17 input.sk-toggleable__control:checked~label.sk-toggleable__label-arrow:before {content: \"▾\";}#sk-container-id-17 div.sk-estimator input.sk-toggleable__control:checked~label.sk-toggleable__label {background-color: #d4ebff;}#sk-container-id-17 div.sk-label input.sk-toggleable__control:checked~label.sk-toggleable__label {background-color: #d4ebff;}#sk-container-id-17 input.sk-hidden--visually {border: 0;clip: rect(1px 1px 1px 1px);clip: rect(1px, 1px, 1px, 1px);height: 1px;margin: -1px;overflow: hidden;padding: 0;position: absolute;width: 1px;}#sk-container-id-17 div.sk-estimator {font-family: monospace;background-color: #f0f8ff;border: 1px dotted black;border-radius: 0.25em;box-sizing: border-box;margin-bottom: 0.5em;}#sk-container-id-17 div.sk-estimator:hover {background-color: #d4ebff;}#sk-container-id-17 div.sk-parallel-item::after {content: \"\";width: 100%;border-bottom: 1px solid gray;flex-grow: 1;}#sk-container-id-17 div.sk-label:hover label.sk-toggleable__label {background-color: #d4ebff;}#sk-container-id-17 div.sk-serial::before {content: \"\";position: absolute;border-left: 1px solid gray;box-sizing: border-box;top: 0;bottom: 0;left: 50%;z-index: 0;}#sk-container-id-17 div.sk-serial {display: flex;flex-direction: column;align-items: center;background-color: white;padding-right: 0.2em;padding-left: 0.2em;position: relative;}#sk-container-id-17 div.sk-item {position: relative;z-index: 1;}#sk-container-id-17 div.sk-parallel {display: flex;align-items: stretch;justify-content: center;background-color: white;position: relative;}#sk-container-id-17 div.sk-item::before, #sk-container-id-17 div.sk-parallel-item::before {content: \"\";position: absolute;border-left: 1px solid gray;box-sizing: border-box;top: 0;bottom: 0;left: 50%;z-index: -1;}#sk-container-id-17 div.sk-parallel-item {display: flex;flex-direction: column;z-index: 1;position: relative;background-color: white;}#sk-container-id-17 div.sk-parallel-item:first-child::after {align-self: flex-end;width: 50%;}#sk-container-id-17 div.sk-parallel-item:last-child::after {align-self: flex-start;width: 50%;}#sk-container-id-17 div.sk-parallel-item:only-child::after {width: 0;}#sk-container-id-17 div.sk-dashed-wrapped {border: 1px dashed gray;margin: 0 0.4em 0.5em 0.4em;box-sizing: border-box;padding-bottom: 0.4em;background-color: white;}#sk-container-id-17 div.sk-label label {font-family: monospace;font-weight: bold;display: inline-block;line-height: 1.2em;}#sk-container-id-17 div.sk-label-container {text-align: center;}#sk-container-id-17 div.sk-container {/* jupyter's `normalize.less` sets `[hidden] { display: none; }` but bootstrap.min.css set `[hidden] { display: none !important; }` so we also need the `!important` here to be able to override the default hidden behavior on the sphinx rendered scikit-learn.org. See: https://github.com/scikit-learn/scikit-learn/issues/21755 */display: inline-block !important;position: relative;}#sk-container-id-17 div.sk-text-repr-fallback {display: none;}</style><div id=\"sk-container-id-17\" class=\"sk-top-container\"><div class=\"sk-text-repr-fallback\"><pre>LinearRegression()</pre><b>In a Jupyter environment, please rerun this cell to show the HTML representation or trust the notebook. <br />On GitHub, the HTML representation is unable to render, please try loading this page with nbviewer.org.</b></div><div class=\"sk-container\" hidden><div class=\"sk-item\"><div class=\"sk-estimator sk-toggleable\"><input class=\"sk-toggleable__control sk-hidden--visually\" id=\"sk-estimator-id-17\" type=\"checkbox\" checked><label for=\"sk-estimator-id-17\" class=\"sk-toggleable__label sk-toggleable__label-arrow\">LinearRegression</label><div class=\"sk-toggleable__content\"><pre>LinearRegression()</pre></div></div></div></div></div>"
      ],
      "text/plain": [
       "LinearRegression()"
      ]
     },
     "execution_count": 285,
     "metadata": {},
     "output_type": "execute_result"
    }
   ],
   "source": [
    "# Defining and fitting the model. \n",
    "model = LinearRegression()\n",
    "model.fit(x_train, y_train)"
   ]
  },
  {
   "cell_type": "code",
   "execution_count": 286,
   "id": "e83af965",
   "metadata": {},
   "outputs": [
    {
     "name": "stdout",
     "output_type": "stream",
     "text": [
      "accuracy: 0.8679245283018868 \n",
      "F1 score: 0.034482758620689655\n"
     ]
    }
   ],
   "source": [
    "# Assessment of accuracy on data lacking outcome parity. \n",
    "predictions = model.predict(x_test)\n",
    "predictions = (np.rint(predictions)).astype(int)\n",
    "\n",
    "accuracy = metrics.accuracy_score(y_test, predictions)\n",
    "f1 = f1_score(y_test, predictions)\n",
    "print(\"accuracy: {} \\nF1 score: {}\".format(accuracy, f1))"
   ]
  },
  {
   "cell_type": "markdown",
   "id": "5b19c97b",
   "metadata": {},
   "source": [
    "This looks like a decent prediction accuracy score until it is considered that the base rate of CHD in the data set is rather low. In fact, a prediction model that simply predicted that every outcome was CHD-negative would attain an accuracy of roughly 85%, since only ~15% of the entries in the dataset are CHD-positive. \n",
    "\n",
    "The poor suitability of this test is further evinced by the very low F1 score. \n",
    "\n",
    "The dataset will balanced in order to rectify this issue and see if any significant improvement in accuracy can be attained."
   ]
  },
  {
   "cell_type": "code",
   "execution_count": 287,
   "id": "5de054e6",
   "metadata": {},
   "outputs": [
    {
     "data": {
      "text/plain": [
       "0.5"
      ]
     },
     "execution_count": 287,
     "metadata": {},
     "output_type": "execute_result"
    }
   ],
   "source": [
    "# Here, enough negative CHD values are dropped until the rate of CHD is at 50%.\n",
    "\n",
    "df_p = df.copy()\n",
    "\n",
    "# The rows are first shuffled to remove any kind of trends in ordering.\n",
    "df_p = df_p.sample(frac = 1, random_state=10)\n",
    "\n",
    "# Dropping 2950 CHD-positive rows brings both sample sizes to 644.\n",
    "df_p2 = df_p.drop(df_p[df_p.TenYearCHD==0].index[:2950])\n",
    "\n",
    "# Percentage of positive CHD cases in the dataset.\n",
    "sum(df_p2['TenYearCHD'])/len(df_p2)\n",
    "#print(sum(df_p2['male']==0))"
   ]
  },
  {
   "cell_type": "code",
   "execution_count": 288,
   "id": "2e1c0f13",
   "metadata": {},
   "outputs": [
    {
     "name": "stdout",
     "output_type": "stream",
     "text": [
      "(1030, 15) (1030,)\n"
     ]
    }
   ],
   "source": [
    "# Defining new variables with the parity dataset and splitting them into train and test subsets. \n",
    "x2 = df_p2.drop('TenYearCHD', axis=1)\n",
    "y2 = df_p2['TenYearCHD']\n",
    "\n",
    "x2_train, x2_test, y2_train, y2_test = train_test_split(x2, y2, test_size=0.2, random_state=10)\n",
    "print(x2_train.shape, y2_train.shape)"
   ]
  },
  {
   "cell_type": "code",
   "execution_count": 289,
   "id": "5eb577ac",
   "metadata": {},
   "outputs": [
    {
     "data": {
      "text/html": [
       "<style>#sk-container-id-18 {color: black;background-color: white;}#sk-container-id-18 pre{padding: 0;}#sk-container-id-18 div.sk-toggleable {background-color: white;}#sk-container-id-18 label.sk-toggleable__label {cursor: pointer;display: block;width: 100%;margin-bottom: 0;padding: 0.3em;box-sizing: border-box;text-align: center;}#sk-container-id-18 label.sk-toggleable__label-arrow:before {content: \"▸\";float: left;margin-right: 0.25em;color: #696969;}#sk-container-id-18 label.sk-toggleable__label-arrow:hover:before {color: black;}#sk-container-id-18 div.sk-estimator:hover label.sk-toggleable__label-arrow:before {color: black;}#sk-container-id-18 div.sk-toggleable__content {max-height: 0;max-width: 0;overflow: hidden;text-align: left;background-color: #f0f8ff;}#sk-container-id-18 div.sk-toggleable__content pre {margin: 0.2em;color: black;border-radius: 0.25em;background-color: #f0f8ff;}#sk-container-id-18 input.sk-toggleable__control:checked~div.sk-toggleable__content {max-height: 200px;max-width: 100%;overflow: auto;}#sk-container-id-18 input.sk-toggleable__control:checked~label.sk-toggleable__label-arrow:before {content: \"▾\";}#sk-container-id-18 div.sk-estimator input.sk-toggleable__control:checked~label.sk-toggleable__label {background-color: #d4ebff;}#sk-container-id-18 div.sk-label input.sk-toggleable__control:checked~label.sk-toggleable__label {background-color: #d4ebff;}#sk-container-id-18 input.sk-hidden--visually {border: 0;clip: rect(1px 1px 1px 1px);clip: rect(1px, 1px, 1px, 1px);height: 1px;margin: -1px;overflow: hidden;padding: 0;position: absolute;width: 1px;}#sk-container-id-18 div.sk-estimator {font-family: monospace;background-color: #f0f8ff;border: 1px dotted black;border-radius: 0.25em;box-sizing: border-box;margin-bottom: 0.5em;}#sk-container-id-18 div.sk-estimator:hover {background-color: #d4ebff;}#sk-container-id-18 div.sk-parallel-item::after {content: \"\";width: 100%;border-bottom: 1px solid gray;flex-grow: 1;}#sk-container-id-18 div.sk-label:hover label.sk-toggleable__label {background-color: #d4ebff;}#sk-container-id-18 div.sk-serial::before {content: \"\";position: absolute;border-left: 1px solid gray;box-sizing: border-box;top: 0;bottom: 0;left: 50%;z-index: 0;}#sk-container-id-18 div.sk-serial {display: flex;flex-direction: column;align-items: center;background-color: white;padding-right: 0.2em;padding-left: 0.2em;position: relative;}#sk-container-id-18 div.sk-item {position: relative;z-index: 1;}#sk-container-id-18 div.sk-parallel {display: flex;align-items: stretch;justify-content: center;background-color: white;position: relative;}#sk-container-id-18 div.sk-item::before, #sk-container-id-18 div.sk-parallel-item::before {content: \"\";position: absolute;border-left: 1px solid gray;box-sizing: border-box;top: 0;bottom: 0;left: 50%;z-index: -1;}#sk-container-id-18 div.sk-parallel-item {display: flex;flex-direction: column;z-index: 1;position: relative;background-color: white;}#sk-container-id-18 div.sk-parallel-item:first-child::after {align-self: flex-end;width: 50%;}#sk-container-id-18 div.sk-parallel-item:last-child::after {align-self: flex-start;width: 50%;}#sk-container-id-18 div.sk-parallel-item:only-child::after {width: 0;}#sk-container-id-18 div.sk-dashed-wrapped {border: 1px dashed gray;margin: 0 0.4em 0.5em 0.4em;box-sizing: border-box;padding-bottom: 0.4em;background-color: white;}#sk-container-id-18 div.sk-label label {font-family: monospace;font-weight: bold;display: inline-block;line-height: 1.2em;}#sk-container-id-18 div.sk-label-container {text-align: center;}#sk-container-id-18 div.sk-container {/* jupyter's `normalize.less` sets `[hidden] { display: none; }` but bootstrap.min.css set `[hidden] { display: none !important; }` so we also need the `!important` here to be able to override the default hidden behavior on the sphinx rendered scikit-learn.org. See: https://github.com/scikit-learn/scikit-learn/issues/21755 */display: inline-block !important;position: relative;}#sk-container-id-18 div.sk-text-repr-fallback {display: none;}</style><div id=\"sk-container-id-18\" class=\"sk-top-container\"><div class=\"sk-text-repr-fallback\"><pre>LinearRegression()</pre><b>In a Jupyter environment, please rerun this cell to show the HTML representation or trust the notebook. <br />On GitHub, the HTML representation is unable to render, please try loading this page with nbviewer.org.</b></div><div class=\"sk-container\" hidden><div class=\"sk-item\"><div class=\"sk-estimator sk-toggleable\"><input class=\"sk-toggleable__control sk-hidden--visually\" id=\"sk-estimator-id-18\" type=\"checkbox\" checked><label for=\"sk-estimator-id-18\" class=\"sk-toggleable__label sk-toggleable__label-arrow\">LinearRegression</label><div class=\"sk-toggleable__content\"><pre>LinearRegression()</pre></div></div></div></div></div>"
      ],
      "text/plain": [
       "LinearRegression()"
      ]
     },
     "execution_count": 289,
     "metadata": {},
     "output_type": "execute_result"
    }
   ],
   "source": [
    "# Fitting a new model to the parity variables. \n",
    "model2 = LinearRegression()\n",
    "model2.fit(x2_train, y2_train)"
   ]
  },
  {
   "cell_type": "code",
   "execution_count": 290,
   "id": "e81a5ea2",
   "metadata": {},
   "outputs": [
    {
     "name": "stdout",
     "output_type": "stream",
     "text": [
      "accuracy: 0.6782945736434108 \n",
      "F1 score: 0.6937269372693726\n"
     ]
    }
   ],
   "source": [
    "# Getting the predicted values from the x test data via the trained model.\n",
    "predictions2 = model2.predict(x2_test)\n",
    "\n",
    "# Rounding the predicted values to the neartest int.\n",
    "predictions2 = (np.rint(predictions2)).astype(int)\n",
    "\n",
    "# Comparing the predicted values to the actual y values. \n",
    "accuracy2 = metrics.accuracy_score(y2_test, predictions2)\n",
    "\n",
    "f1_2 = f1_score(y2_test, predictions2)\n",
    "\n",
    "print(\"accuracy: {} \\nF1 score: {}\".format(accuracy2, f1_2))"
   ]
  },
  {
   "cell_type": "markdown",
   "id": "39773339",
   "metadata": {},
   "source": [
    "On a dataset in which outcome parity was enabled, a prediction accuracy of ~68% was achieved. The F1 score saw a massive improvement from ~0.03 to 0.69.\n",
    "\n",
    "Since there are at least two sources of randomness involved with this training and accuracy assessment (shuffling prior to removing excess CHD-positive values and random splitting of the train and test data subsets), these sources will be run a large number of times in order to find an average. \n",
    "\n",
    "A k-folds cross-analysis technique would be standard practice to use in alleviating some of the randomness issues in splitting data into train and test data. There is a built in scikit function for this; however, it is not useful given that the prediction model outputs floats rather than the ints that are expected in the outcome. \n",
    "\n",
    "The weakness of the k-folds function is demonstrated below, followed by a tailored implementation of a similar function designed to minimize the impact of randomness. "
   ]
  },
  {
   "cell_type": "code",
   "execution_count": 291,
   "id": "9203be8d",
   "metadata": {},
   "outputs": [
    {
     "data": {
      "text/plain": [
       "-0.5319685507018118"
      ]
     },
     "execution_count": 291,
     "metadata": {},
     "output_type": "execute_result"
    }
   ],
   "source": [
    "# A k-folds cross-analysis. Doesn't work well since the resulting predictions are floats rather than the expected binary. \n",
    "\n",
    "mod = LinearRegression()\n",
    "scores = cross_val_score(mod, x2, y2, cv=5)\n",
    "scores.mean()\n"
   ]
  },
  {
   "cell_type": "code",
   "execution_count": 315,
   "id": "9c23acac",
   "metadata": {},
   "outputs": [
    {
     "data": {
      "text/plain": [
       "(0.6675193798449613, 0.6603840264659029)"
      ]
     },
     "execution_count": 315,
     "metadata": {},
     "output_type": "execute_result"
    }
   ],
   "source": [
    "# Function that determines average model accuracy and F1 score based on different random train/test splits. \n",
    "# Similar to a k-folds cross-analysis, but allows for more randomization of data and performs a critical rounding step.\n",
    "\n",
    "\n",
    "def k_folds(n, x, y):\n",
    "    accuracies = []\n",
    "    f1s = []\n",
    "    for k in range(1, n+1):\n",
    "        x_train, x_test, y_train, y_test = train_test_split(x, y, test_size=0.2, random_state=k)\n",
    "    \n",
    "        model = LinearRegression()\n",
    "        model.fit(x_train, y_train)\n",
    "    \n",
    "        predictions = model.predict(x_test)\n",
    "        predictions = (np.rint(predictions)).astype(int)\n",
    "\n",
    "        accuracy = metrics.accuracy_score(y_test, predictions)\n",
    "        f1 = f1_score(y_test, predictions, average='macro')\n",
    "    \n",
    "        accuracies.append(accuracy)\n",
    "        f1s.append(f1)\n",
    "    \n",
    "    return (np.mean(accuracies), np.mean(f1s))\n",
    "\n",
    "\n",
    "# Sample output of 10 random splits. \n",
    "k_folds(100, x2, y2)\n"
   ]
  },
  {
   "cell_type": "markdown",
   "id": "6e7481bd",
   "metadata": {},
   "source": [
    "The remaining source of randomness is due to the shuffling of the dataset before removing excess CHD-positive values. To get a good measure of training accuracy, a number 'n' of random shufflings will be performed, followed by a number of randomized cross-analysis previously implemented. "
   ]
  },
  {
   "cell_type": "code",
   "execution_count": 316,
   "id": "ca3d0e61",
   "metadata": {},
   "outputs": [
    {
     "name": "stdout",
     "output_type": "stream",
     "text": [
      "accuracy: 0.6646889986077095 \n",
      "F1 score: 0.6628178675107267\n"
     ]
    }
   ],
   "source": [
    "# Now testing different removals of CHD-negative rows that were taken out to achieve parity.\n",
    "\n",
    "n = 100\n",
    "total_accuracies = []\n",
    "total_f1s = []\n",
    "\n",
    "for x in range(1,n+1):\n",
    "    df_r = df.copy()\n",
    "    \n",
    "    # The rows are first shuffled to remove any kind of trends in ordering.\n",
    "    df_r = df_r.sample(frac = 1, random_state=x)\n",
    "\n",
    "    df_r2 = df_r.drop(df_r[df_r.TenYearCHD==0].index[:2950])\n",
    "    \n",
    "    xn = df_r2.drop('TenYearCHD', axis=1)\n",
    "    yn = df_r2['TenYearCHD']\n",
    "    \n",
    "    \n",
    "    accuracy_of_shuffle = k_folds(x, xn, yn)\n",
    "    \n",
    "    total_accuracies.append(accuracy_of_shuffle[0])\n",
    "    total_f1s.append(accuracy_of_shuffle[1])\n",
    "    \n",
    "\n",
    "print(\"accuracy: {} \\nF1 score: {}\".format(np.mean(total_accuracies), np.mean(total_f1s)))\n"
   ]
  },
  {
   "cell_type": "markdown",
   "id": "2c3e4558",
   "metadata": {},
   "source": [
    "100 random shufflings, each resulting in 100 random cross-analyses, resulted in a overall mean prediction accuracy of ~66%. This is much better than the previously obtained naive Bayes prediction accuracy of ~57%. Additionally, the mean F1 score of ~0.66 is a large improvement over the data that was trained without regard to parity. \n",
    "\n",
    "Given that medical conditions tend to occur with a high amount of variance (cases in which individuals with low risk factors are often diagnosed with the disease while individuals with many risk factors avoid the disease befalling them), it is quite possible that a high prediction accuracy is possible. \n",
    "\n",
    "Overall, I believe the prediction accuracy of ~66% and F1 score of 0.66 to be satisfactory in this case, though there is almost certainly room for future improvement. "
   ]
  },
  {
   "cell_type": "code",
   "execution_count": null,
   "id": "d9196352",
   "metadata": {},
   "outputs": [],
   "source": []
  }
 ],
 "metadata": {
  "kernelspec": {
   "display_name": "Python 3 (ipykernel)",
   "language": "python",
   "name": "python3"
  },
  "language_info": {
   "codemirror_mode": {
    "name": "ipython",
    "version": 3
   },
   "file_extension": ".py",
   "mimetype": "text/x-python",
   "name": "python",
   "nbconvert_exporter": "python",
   "pygments_lexer": "ipython3",
   "version": "3.10.1"
  }
 },
 "nbformat": 4,
 "nbformat_minor": 5
}
